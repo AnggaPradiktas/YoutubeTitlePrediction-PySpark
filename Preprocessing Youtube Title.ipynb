{
 "cells": [
  {
   "cell_type": "code",
   "execution_count": 1,
   "metadata": {},
   "outputs": [],
   "source": [
    "import pandas as pd\n",
    "import numpy as np"
   ]
  },
  {
   "cell_type": "code",
   "execution_count": 2,
   "metadata": {},
   "outputs": [],
   "source": [
    "from google.cloud import bigquery\n",
    "import os\n",
    "os.environ[\"GOOGLE_APPLICATION_CREDENTIALS\"]=\"/Users/anggapradiktas/Downloads/BqJup.json\""
   ]
  },
  {
   "cell_type": "code",
   "execution_count": 3,
   "metadata": {},
   "outputs": [],
   "source": [
    "biqguery_client = bigquery.Client()"
   ]
  },
  {
   "cell_type": "code",
   "execution_count": 4,
   "metadata": {},
   "outputs": [],
   "source": [
    "QUERY = (\n",
    "    'SELECT * FROM `youtubeprediction.youtubeDatasetTop45.Top45Youtube`')\n",
    "query_job = biqguery_client.query(QUERY)  # API request"
   ]
  },
  {
   "cell_type": "code",
   "execution_count": 5,
   "metadata": {},
   "outputs": [],
   "source": [
    "df = query_job.to_dataframe()"
   ]
  },
  {
   "cell_type": "code",
   "execution_count": 6,
   "metadata": {},
   "outputs": [],
   "source": [
    "df_title = df.drop_duplicates(subset=['videoTitle'], keep=False)"
   ]
  },
  {
   "cell_type": "code",
   "execution_count": 7,
   "metadata": {},
   "outputs": [],
   "source": [
    "df_title = df_title.drop(['position','channelId','videoId','publishedAt','publishedAtSQL','videoCategoryId',\n",
    "                         'duration','durationSec', 'dimension', 'definition', 'caption', 'licensedContent', 'video_link', 'datePublished',\n",
    "                         'timePublished', 'datePublishedSQL', 'timePublishedSQL','__index_level_0__','favoriteCount','channelTitle',\n",
    "                          'videoDescription','videoCategoryLabel','thumbnail'], axis=1)"
   ]
  },
  {
   "cell_type": "code",
   "execution_count": 8,
   "metadata": {},
   "outputs": [
    {
     "data": {
      "text/plain": [
       "videoTitle      0\n",
       "viewCount       0\n",
       "likeCount       0\n",
       "dislikeCount    0\n",
       "commentCount    0\n",
       "dtype: int64"
      ]
     },
     "execution_count": 8,
     "metadata": {},
     "output_type": "execute_result"
    }
   ],
   "source": [
    "df_title.isna().sum()"
   ]
  },
  {
   "cell_type": "code",
   "execution_count": 9,
   "metadata": {},
   "outputs": [
    {
     "data": {
      "text/plain": [
       "videoTitle       object\n",
       "viewCount       float64\n",
       "likeCount       float64\n",
       "dislikeCount    float64\n",
       "commentCount    float64\n",
       "dtype: object"
      ]
     },
     "execution_count": 9,
     "metadata": {},
     "output_type": "execute_result"
    }
   ],
   "source": [
    "df_title.dtypes"
   ]
  },
  {
   "cell_type": "code",
   "execution_count": 10,
   "metadata": {},
   "outputs": [],
   "source": [
    "df_title = df_title[df_title.viewCount <= 5000000]"
   ]
  },
  {
   "cell_type": "code",
   "execution_count": 11,
   "metadata": {},
   "outputs": [],
   "source": [
    "labels1 = ['{0} - {1}'.format(i, i + 100000) for i in range(0, 5000000, 100000)]\n",
    "df_title['viewGroup'] = pd.cut(df_title.viewCount, range(0, 5000005, 100000), right = False, labels = labels1)"
   ]
  },
  {
   "cell_type": "code",
   "execution_count": 12,
   "metadata": {},
   "outputs": [
    {
     "data": {
      "text/html": [
       "<div>\n",
       "<style scoped>\n",
       "    .dataframe tbody tr th:only-of-type {\n",
       "        vertical-align: middle;\n",
       "    }\n",
       "\n",
       "    .dataframe tbody tr th {\n",
       "        vertical-align: top;\n",
       "    }\n",
       "\n",
       "    .dataframe thead th {\n",
       "        text-align: right;\n",
       "    }\n",
       "</style>\n",
       "<table border=\"1\" class=\"dataframe\">\n",
       "  <thead>\n",
       "    <tr style=\"text-align: right;\">\n",
       "      <th></th>\n",
       "      <th>videoTitle</th>\n",
       "      <th>viewCount</th>\n",
       "      <th>likeCount</th>\n",
       "      <th>dislikeCount</th>\n",
       "      <th>commentCount</th>\n",
       "      <th>viewGroup</th>\n",
       "    </tr>\n",
       "  </thead>\n",
       "  <tbody>\n",
       "    <tr>\n",
       "      <th>0</th>\n",
       "      <td>Di Balik Layar Hiduplah Hari Ini - Dialog Dini...</td>\n",
       "      <td>28751.0</td>\n",
       "      <td>903.0</td>\n",
       "      <td>23.0</td>\n",
       "      <td>71.0</td>\n",
       "      <td>0 - 100000</td>\n",
       "    </tr>\n",
       "    <tr>\n",
       "      <th>1</th>\n",
       "      <td>Interview with SISITIPSI</td>\n",
       "      <td>11647.0</td>\n",
       "      <td>96.0</td>\n",
       "      <td>2.0</td>\n",
       "      <td>5.0</td>\n",
       "      <td>0 - 100000</td>\n",
       "    </tr>\n",
       "    <tr>\n",
       "      <th>2</th>\n",
       "      <td>SISITIPSI - Joni Santai [Live Performance]</td>\n",
       "      <td>13958.0</td>\n",
       "      <td>80.0</td>\n",
       "      <td>5.0</td>\n",
       "      <td>2.0</td>\n",
       "      <td>0 - 100000</td>\n",
       "    </tr>\n",
       "    <tr>\n",
       "      <th>3</th>\n",
       "      <td>Realitas - Langkah Banding Kartel Motor</td>\n",
       "      <td>872.0</td>\n",
       "      <td>7.0</td>\n",
       "      <td>0.0</td>\n",
       "      <td>5.0</td>\n",
       "      <td>0 - 100000</td>\n",
       "    </tr>\n",
       "    <tr>\n",
       "      <th>4</th>\n",
       "      <td>Target Operasi - Calo TKI Ilegal Timur Tengah</td>\n",
       "      <td>100847.0</td>\n",
       "      <td>316.0</td>\n",
       "      <td>39.0</td>\n",
       "      <td>315.0</td>\n",
       "      <td>100000 - 200000</td>\n",
       "    </tr>\n",
       "  </tbody>\n",
       "</table>\n",
       "</div>"
      ],
      "text/plain": [
       "                                          videoTitle  viewCount  likeCount  \\\n",
       "0  Di Balik Layar Hiduplah Hari Ini - Dialog Dini...    28751.0      903.0   \n",
       "1                           Interview with SISITIPSI    11647.0       96.0   \n",
       "2         SISITIPSI - Joni Santai [Live Performance]    13958.0       80.0   \n",
       "3            Realitas - Langkah Banding Kartel Motor      872.0        7.0   \n",
       "4      Target Operasi - Calo TKI Ilegal Timur Tengah   100847.0      316.0   \n",
       "\n",
       "   dislikeCount  commentCount        viewGroup  \n",
       "0          23.0          71.0       0 - 100000  \n",
       "1           2.0           5.0       0 - 100000  \n",
       "2           5.0           2.0       0 - 100000  \n",
       "3           0.0           5.0       0 - 100000  \n",
       "4          39.0         315.0  100000 - 200000  "
      ]
     },
     "execution_count": 12,
     "metadata": {},
     "output_type": "execute_result"
    }
   ],
   "source": [
    "df_title.head()"
   ]
  },
  {
   "cell_type": "code",
   "execution_count": 14,
   "metadata": {},
   "outputs": [],
   "source": [
    "#df_title.to_csv('titleYoutube_clean.csv')"
   ]
  }
 ],
 "metadata": {
  "kernelspec": {
   "display_name": "Python 3",
   "language": "python",
   "name": "python3"
  },
  "language_info": {
   "codemirror_mode": {
    "name": "ipython",
    "version": 3
   },
   "file_extension": ".py",
   "mimetype": "text/x-python",
   "name": "python",
   "nbconvert_exporter": "python",
   "pygments_lexer": "ipython3",
   "version": "3.6.8"
  },
  "toc": {
   "base_numbering": 1,
   "nav_menu": {},
   "number_sections": true,
   "sideBar": true,
   "skip_h1_title": false,
   "title_cell": "Table of Contents",
   "title_sidebar": "Contents",
   "toc_cell": false,
   "toc_position": {},
   "toc_section_display": true,
   "toc_window_display": false
  },
  "varInspector": {
   "cols": {
    "lenName": 16,
    "lenType": 16,
    "lenVar": 40
   },
   "kernels_config": {
    "python": {
     "delete_cmd_postfix": "",
     "delete_cmd_prefix": "del ",
     "library": "var_list.py",
     "varRefreshCmd": "print(var_dic_list())"
    },
    "r": {
     "delete_cmd_postfix": ") ",
     "delete_cmd_prefix": "rm(",
     "library": "var_list.r",
     "varRefreshCmd": "cat(var_dic_list()) "
    }
   },
   "types_to_exclude": [
    "module",
    "function",
    "builtin_function_or_method",
    "instance",
    "_Feature"
   ],
   "window_display": false
  }
 },
 "nbformat": 4,
 "nbformat_minor": 2
}
